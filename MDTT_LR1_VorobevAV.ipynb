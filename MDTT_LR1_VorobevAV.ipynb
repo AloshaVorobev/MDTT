{
 "cells": [
  {
   "cell_type": "markdown",
   "metadata": {},
   "source": [
    "# МДТТ, Лабораторная работа №1"
   ]
  },
  {
   "cell_type": "markdown",
   "metadata": {},
   "source": [
    "---\n",
    "Вариант №2"
   ]
  },
  {
   "cell_type": "markdown",
   "metadata": {},
   "source": [
    "Выполнил: студент группы М8О-103М-20 Воробьев А.В."
   ]
  },
  {
   "cell_type": "markdown",
   "metadata": {},
   "source": [
    "---\n",
    "0. Импортируем необходимые библиотеки:"
   ]
  },
  {
   "cell_type": "code",
   "execution_count": 233,
   "metadata": {},
   "outputs": [],
   "source": [
    "import math\n",
    "import numpy as np\n",
    "import matplotlib.pyplot as plt"
   ]
  },
  {
   "cell_type": "markdown",
   "metadata": {},
   "source": [
    "---\n",
    "### 1. Исходные данные:"
   ]
  },
  {
   "cell_type": "markdown",
   "metadata": {},
   "source": [
    "---\n",
    "#### 1.1. Геометрические параметры панели:"
   ]
  },
  {
   "cell_type": "code",
   "execution_count": 234,
   "metadata": {},
   "outputs": [
    {
     "name": "stdout",
     "output_type": "stream",
     "text": [
      "psi = 1.0\n"
     ]
    }
   ],
   "source": [
    "a = 1\n",
    "b = 1\n",
    "psi = a/b\n",
    "print(f'psi = {psi}')"
   ]
  },
  {
   "cell_type": "markdown",
   "metadata": {},
   "source": [
    "---\n",
    "#### 1.2. Коэффициент Пуассона:"
   ]
  },
  {
   "cell_type": "code",
   "execution_count": 235,
   "metadata": {},
   "outputs": [],
   "source": [
    "mu = 0.2"
   ]
  },
  {
   "cell_type": "markdown",
   "metadata": {},
   "source": [
    "---\n",
    "#### 1.3. Кривизна панели:"
   ]
  },
  {
   "cell_type": "code",
   "execution_count": 236,
   "metadata": {},
   "outputs": [],
   "source": [
    "k = kx = ky = 10"
   ]
  },
  {
   "cell_type": "markdown",
   "metadata": {},
   "source": [
    "---\n",
    "#### 1.4. Вычислим коэффициент \"c\":"
   ]
  },
  {
   "cell_type": "code",
   "execution_count": 237,
   "metadata": {},
   "outputs": [
    {
     "name": "stdout",
     "output_type": "stream",
     "text": [
      "c = 47.93064068947288\n"
     ]
    }
   ],
   "source": [
    "c = 384 * (1 + mu) * (k**2 / math.pi**6)\n",
    "print(f'c = {c}')"
   ]
  },
  {
   "cell_type": "markdown",
   "metadata": {},
   "source": [
    "---\n",
    "### 2. Создадим необходимые функции:"
   ]
  },
  {
   "cell_type": "markdown",
   "metadata": {},
   "source": [
    "---\n",
    "#### 2.1. Функция нахождения S1:"
   ]
  },
  {
   "cell_type": "code",
   "execution_count": 238,
   "metadata": {},
   "outputs": [],
   "source": [
    "def def_s1(s1_alpha):\n",
    "    i = 1\n",
    "    j = 1\n",
    "    sum_s1 = 0\n",
    "    for l in range(0, 8):\n",
    "        ret_s1 = 1 / ((j**2) * ((i**2 + j**2)**2) * (((math.pi**2) * (i**2 + j**2) + s1_alpha)**2))\n",
    "        sum_s1 += ret_s1\n",
    "        i += 1\n",
    "        j += 1\n",
    "    return sum_s1"
   ]
  },
  {
   "cell_type": "markdown",
   "metadata": {},
   "source": [
    "---\n",
    "#### 2.2. Функция нахождения S2:"
   ]
  },
  {
   "cell_type": "code",
   "execution_count": 239,
   "metadata": {},
   "outputs": [],
   "source": [
    "def def_s2(s2_alpha):\n",
    "    i = 1\n",
    "    j = 1\n",
    "    sum_s2 = 0\n",
    "    for l in range(0, 8):\n",
    "        ret_s2 = 1 / ((i**2) * (j**2) * (i**2 + j**2) * ((math.pi**2) * (i**2 + j**2) + s2_alpha))\n",
    "        sum_s2 += ret_s2\n",
    "        i += 1\n",
    "        j += 1\n",
    "    return sum_s2"
   ]
  },
  {
   "cell_type": "markdown",
   "metadata": {},
   "source": [
    "---\n",
    "#### 2.3. Функция нахождения q:"
   ]
  },
  {
   "cell_type": "markdown",
   "metadata": {},
   "source": [
    "Корень 1:"
   ]
  },
  {
   "cell_type": "code",
   "execution_count": 240,
   "metadata": {},
   "outputs": [],
   "source": [
    "def def_qp(qp_alpha, qp_s1, qp_s2):\n",
    "    ret_qp = ((qp_s2 + (qp_s2**2 + (1/c) * qp_s1 * qp_alpha)**0.5) / qp_s1) - 2 * qp_alpha\n",
    "    return ret_qp"
   ]
  },
  {
   "cell_type": "markdown",
   "metadata": {},
   "source": [
    "Корень 2:"
   ]
  },
  {
   "cell_type": "code",
   "execution_count": 241,
   "metadata": {},
   "outputs": [],
   "source": [
    "def def_qm(qm_alpha, qm_s1, qm_s2):\n",
    "    ret_qm = ((qm_s2 - (qm_s2**2 + (1/c) * qm_s1 * qm_alpha)**0.5) / qm_s1) - 2 * qm_alpha\n",
    "    return ret_qm"
   ]
  },
  {
   "cell_type": "markdown",
   "metadata": {},
   "source": [
    "---\n",
    "### 3. Теперь посчитаем значения S1, S2 и q:"
   ]
  },
  {
   "cell_type": "markdown",
   "metadata": {},
   "source": [
    "---\n",
    "#### 3.1. Зададим диапазон значения для $\\alpha$ и для корней $q_1$ и $q_2$: "
   ]
  },
  {
   "cell_type": "code",
   "execution_count": 242,
   "metadata": {},
   "outputs": [],
   "source": [
    "alpha = np.arange(-70, 0, 0.001)\n",
    "q1 = np.zeros(len(alpha))\n",
    "q2 = np.zeros(len(alpha))"
   ]
  },
  {
   "cell_type": "markdown",
   "metadata": {},
   "source": [
    "---\n",
    "#### 3.2. Вычислим $S_1$, $S_2$, $q_1$ и $q_2$:"
   ]
  },
  {
   "cell_type": "code",
   "execution_count": 243,
   "metadata": {
    "scrolled": true
   },
   "outputs": [
    {
     "name": "stderr",
     "output_type": "stream",
     "text": [
      "<ipython-input-240-997da5691d31>:2: RuntimeWarning: invalid value encountered in double_scalars\n",
      "  ret_qp = ((qp_s2 + (qp_s2**2 + (1/c) * qp_s1 * qp_alpha)**0.5) / qp_s1) - 2 * qp_alpha\n"
     ]
    }
   ],
   "source": [
    "for i in range(len(alpha)):\n",
    "    a = alpha[i]\n",
    "    \n",
    "    s1 = def_s1(a)\n",
    "    s2 = def_s2(a)\n",
    "    \n",
    "    q1[i] = def_qp(a, s1, s2)\n",
    "    q2[i] = def_qm(a, s1, s2)"
   ]
  },
  {
   "cell_type": "markdown",
   "metadata": {},
   "source": [
    "---\n",
    "#### 3.3. Выведем значения корней $q_1$ и $q_2$:"
   ]
  },
  {
   "cell_type": "code",
   "execution_count": 246,
   "metadata": {},
   "outputs": [
    {
     "name": "stdout",
     "output_type": "stream",
     "text": [
      "Массив первого корня q:\n",
      "[  nan   nan   nan ... 79.19 79.2  79.2 ]\n",
      "Массив второго корня q:\n",
      "[ nan  nan  nan ... 0.01 0.   0.  ]\n"
     ]
    }
   ],
   "source": [
    "np.set_printoptions(linewidth = 75, precision=2, threshold=1000)\n",
    "print(f'Массив первого корня q:\\n{q1}')\n",
    "print(f'Массив второго корня q:\\n{q2}')"
   ]
  },
  {
   "cell_type": "markdown",
   "metadata": {},
   "source": [
    "---\n",
    "### 4. Построим график функции $\\alpha(q)$"
   ]
  },
  {
   "cell_type": "code",
   "execution_count": 247,
   "metadata": {},
   "outputs": [
    {
     "data": {
      "image/png": "[encoded data removed]",
      "text/plain": [
       "<Figure size 432x288 with 1 Axes>"
      ]
     },
     "metadata": {
      "needs_background": "light"
     },
     "output_type": "display_data"
    }
   ],
   "source": [
    "plt.plot(q1, alpha, 'g', q2, alpha, 'b')\n",
    "plt.title(r'Зависимость $\\alpha(q)$:', fontsize=20, fontname='Arial')\n",
    "plt.xlabel(r'Нагрузка, $q=\\frac{Q}{k}$', fontsize=18, color='gray', fontname='Arial')\n",
    "plt.ylabel(r'Распор, $\\alpha$', fontsize=18, color='gray', fontname='Arial')\n",
    "plt.show()"
   ]
  },
  {
   "cell_type": "markdown",
   "metadata": {},
   "source": [
    "---\n"
   ]
  }
 ],
 "metadata": {
  "kernelspec": {
   "display_name": "Python 3",
   "language": "python",
   "name": "python3"
  },
  "language_info": {
   "codemirror_mode": {
    "name": "ipython",
    "version": 3
   },
   "file_extension": ".py",
   "mimetype": "text/x-python",
   "name": "python",
   "nbconvert_exporter": "python",
   "pygments_lexer": "ipython3",
   "version": "3.8.5"
  }
 },
 "nbformat": 4,
 "nbformat_minor": 4
}
