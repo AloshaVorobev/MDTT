{
 "cells": [
  {
   "cell_type": "markdown",
   "metadata": {},
   "source": [
    "# МДТТ, Лабораторная работа №1"
   ]
  },
  {
   "cell_type": "markdown",
   "metadata": {},
   "source": [
    "---\n",
    "Выполнил: студент группы М8О-103М-20 Воробьев А.В."
   ]
  },
  {
   "cell_type": "code",
   "execution_count": 297,
   "metadata": {},
   "outputs": [],
   "source": [
    "import math\n",
    "import numpy as np\n",
    "import matplotlib.pyplot as plt"
   ]
  },
  {
   "cell_type": "markdown",
   "metadata": {},
   "source": [
    "---\n",
    "#### Исходные данные:"
   ]
  },
  {
   "cell_type": "markdown",
   "metadata": {},
   "source": [
    "---\n",
    "Размеры панели:"
   ]
  },
  {
   "cell_type": "code",
   "execution_count": 298,
   "metadata": {},
   "outputs": [
    {
     "name": "stdout",
     "output_type": "stream",
     "text": [
      "psi = 1.0\n"
     ]
    }
   ],
   "source": [
    "a = 1\n",
    "b = 1\n",
    "psi = a/b\n",
    "print(f'psi = {psi}')"
   ]
  },
  {
   "cell_type": "markdown",
   "metadata": {},
   "source": [
    "---\n",
    "Коэффициент Пуассона:"
   ]
  },
  {
   "cell_type": "code",
   "execution_count": 299,
   "metadata": {},
   "outputs": [],
   "source": [
    "mu = 0.2"
   ]
  },
  {
   "cell_type": "markdown",
   "metadata": {},
   "source": [
    "---\n",
    "Кривизна панели:"
   ]
  },
  {
   "cell_type": "code",
   "execution_count": 300,
   "metadata": {},
   "outputs": [],
   "source": [
    "k = kx = ky = 10"
   ]
  },
  {
   "cell_type": "markdown",
   "metadata": {},
   "source": [
    "---\n",
    "#### Вычислим коэффициент 'c':"
   ]
  },
  {
   "cell_type": "code",
   "execution_count": 301,
   "metadata": {},
   "outputs": [
    {
     "name": "stdout",
     "output_type": "stream",
     "text": [
      "c = 47.93064068947288\n"
     ]
    }
   ],
   "source": [
    "c = 384 * (1 + mu) * (k**2 / math.pi**6)\n",
    "print(f'c = {c}')"
   ]
  },
  {
   "cell_type": "markdown",
   "metadata": {},
   "source": [
    "---\n",
    "#### Создадим функции:"
   ]
  },
  {
   "cell_type": "markdown",
   "metadata": {},
   "source": [
    "---\n",
    "Функция нахождения S1:"
   ]
  },
  {
   "cell_type": "code",
   "execution_count": 302,
   "metadata": {},
   "outputs": [],
   "source": [
    "def def_s1(i, j, s1_alpha):\n",
    "    ret_s1 = 1 / ((j**2) * (i**2 + j**2) * (((math.pi**2) * (i**2 + j**2) + s1_alpha)**2))\n",
    "    return ret_s1"
   ]
  },
  {
   "cell_type": "markdown",
   "metadata": {},
   "source": [
    "---\n",
    "Функция нахождения S2:"
   ]
  },
  {
   "cell_type": "code",
   "execution_count": 303,
   "metadata": {},
   "outputs": [],
   "source": [
    "def def_s2(i, j, s2_alpha):\n",
    "    ret_s2 = 1 / ((i**2) * (j**2) * (i**2 + j**2) * ((math.pi**2) * (i**2 + j**2) + s2_alpha))\n",
    "    return ret_s2"
   ]
  },
  {
   "cell_type": "markdown",
   "metadata": {},
   "source": [
    "---\n",
    "Функция нахождения q:"
   ]
  },
  {
   "cell_type": "code",
   "execution_count": 304,
   "metadata": {},
   "outputs": [],
   "source": [
    "def def_q(q_alpha, q_s1, q_s2):\n",
    "    ret_q = ((q_s2 + (q_s2 + (1/c) * q_s1 * q_alpha)**0.5) / q_s1) - 2 * q_alpha\n",
    "    return ret_q"
   ]
  },
  {
   "cell_type": "markdown",
   "metadata": {},
   "source": [
    "---\n",
    "### Теперь посчитаем значения S1, S2 и q:"
   ]
  },
  {
   "cell_type": "markdown",
   "metadata": {},
   "source": [
    "---\n",
    "#### S1 (количество итераций = 7):"
   ]
  },
  {
   "cell_type": "code",
   "execution_count": 305,
   "metadata": {
    "scrolled": true
   },
   "outputs": [
    {
     "name": "stdout",
     "output_type": "stream",
     "text": [
      "S1:\n",
      "[1.38e-04 2.07e-04 3.99e-07 2.57e-08 3.67e-09 7.94e-10 2.23e-10]\n"
     ]
    }
   ],
   "source": [
    "i1 = 1\n",
    "j1 = 1\n",
    "alpha1 = np.linspace(-80, 0, 7)\n",
    "s1 = np.zeros(7)\n",
    "\n",
    "while i1 <= 7 and j1 <=7:\n",
    "    #print(f'i = {i1}')\n",
    "    \n",
    "    s1[i1-1] = def_s1(i1, j1, alpha1[i1-1])\n",
    "    #print(f's1 = {s1[i1-1]}\\n----------)\n",
    "    \n",
    "    i1 += 1\n",
    "    j1 += 1\n",
    "    \n",
    "print(f'S1:\\n{s1}')"
   ]
  },
  {
   "cell_type": "markdown",
   "metadata": {},
   "source": [
    "---\n",
    "#### S2 (количество итераций = 7):"
   ]
  },
  {
   "cell_type": "code",
   "execution_count": 306,
   "metadata": {},
   "outputs": [
    {
     "name": "stdout",
     "output_type": "stream",
     "text": [
      "S2:\n",
      "[-8.30e-03  6.36e-04  5.52e-06  4.43e-07  6.85e-08  1.54e-08  4.39e-09]\n"
     ]
    }
   ],
   "source": [
    "i2 = 1\n",
    "j2 = 1\n",
    "alpha2 = np.linspace(-80, 0, 7)\n",
    "s2 = np.zeros(7)\n",
    "\n",
    "while i2 <= 7 and j2 <=7:\n",
    "    #print(f'i = {i2}')\n",
    "    \n",
    "    s2[i2-1] = def_s2(i2, j2, alpha2[i2-1])\n",
    "    #print(f's2 = {s2[i2-1]}\\n----------)\n",
    "    \n",
    "    i2 += 1\n",
    "    j2 += 1\n",
    "    \n",
    "print(f'S2:\\n{s2}')"
   ]
  },
  {
   "cell_type": "markdown",
   "metadata": {},
   "source": [
    "---\n",
    "#### Colculate 'q':"
   ]
  },
  {
   "cell_type": "code",
   "execution_count": 307,
   "metadata": {},
   "outputs": [
    {
     "name": "stdout",
     "output_type": "stream",
     "text": [
      "q:\n",
      "[     nan 2.27e+02 5.76e+03 2.54e+04 7.03e+04 1.55e+05 2.98e+05]\n",
      "[      nan -2.27e+02 -5.76e+03 -2.54e+04 -7.03e+04 -1.55e+05 -2.98e+05]\n"
     ]
    },
    {
     "name": "stderr",
     "output_type": "stream",
     "text": [
      "<ipython-input-304-2c553c2235b7>:2: RuntimeWarning: invalid value encountered in double_scalars\n",
      "  ret_q = ((q_s2 + (q_s2 + (1/c) * q_s1 * q_alpha)**0.5) / q_s1) - 2 * q_alpha\n"
     ]
    }
   ],
   "source": [
    "alpha3 = np.linspace(-80, 0, 7)\n",
    "q1 = np.zeros(len(alpha3))\n",
    "q2 = np.zeros(len(alpha3))\n",
    "\n",
    "for i3 in range(len(alpha3)):\n",
    "    #print(f'i = {i3}')\n",
    "    \n",
    "    q1[i3] = def_q(alpha3[i3], s1[i3], s2[i3])\n",
    "    #print(f'q1 = {q1[i3]}\\n----------')\n",
    "    \n",
    "print(f'q:\\n{q1}\\n{-q1}')"
   ]
  },
  {
   "cell_type": "markdown",
   "metadata": {},
   "source": [
    "---\n",
    "#### Create a plot q(alpha):"
   ]
  },
  {
   "cell_type": "code",
   "execution_count": 312,
   "metadata": {
    "scrolled": true
   },
   "outputs": [
    {
     "data": {
      "image/png": "[encoded data removed]",
      "text/plain": [
       "<Figure size 432x288 with 1 Axes>"
      ]
     },
     "metadata": {
      "needs_background": "light"
     },
     "output_type": "display_data"
    }
   ],
   "source": [
    "plt.plot(alpha3, q1, 'g', alpha3, -q1, 'g')\n",
    "plt.title(r'Зависимость $q(\\alpha)$:', fontsize=20, fontname='Times New Roman')\n",
    "plt.xlabel(r'Распор $\\alpha$ (альфа)', fontsize=16, color='gray', fontname='Times New Roman')\n",
    "plt.ylabel(r'Нагрузка  $q=\\frac{Q}{k}$', fontsize=16, color='gray', fontname='Times New Roman')\n",
    "plt.show()"
   ]
  },
  {
   "cell_type": "markdown",
   "metadata": {},
   "source": [
    "---\n"
   ]
  }
 ],
 "metadata": {
  "kernelspec": {
   "display_name": "Python 3",
   "language": "python",
   "name": "python3"
  },
  "language_info": {
   "codemirror_mode": {
    "name": "ipython",
    "version": 3
   },
   "file_extension": ".py",
   "mimetype": "text/x-python",
   "name": "python",
   "nbconvert_exporter": "python",
   "pygments_lexer": "ipython3",
   "version": "3.8.5"
  }
 },
 "nbformat": 4,
 "nbformat_minor": 4
}
